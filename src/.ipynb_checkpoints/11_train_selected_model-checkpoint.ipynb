{
 "cells": [
  {
   "cell_type": "markdown",
   "metadata": {},
   "source": [
    "# Data Science Academy"
   ]
  },
  {
   "cell_type": "markdown",
   "metadata": {},
   "source": [
    "https://www.datascienceacademy.com.br/start"
   ]
  },
  {
   "cell_type": "markdown",
   "metadata": {},
   "source": [
    "### Projeto com Feedback 3"
   ]
  },
  {
   "cell_type": "markdown",
   "metadata": {},
   "source": [
    "Gabriel Quaiotti - Abr 2020"
   ]
  },
  {
   "cell_type": "markdown",
   "metadata": {},
   "source": [
    "A satisfação do cliente é uma medida fundamental de sucesso. Clientes\n",
    "insatisfeitos cancelam seus serviços e raramente expressam sua insatisfação antes\n",
    "de sair. Clientes satisfeitos, por outro lado, se tornam defensores da marca!\n",
    "O Banco Santander está pedindo para ajudá-los a identificar clientes\n",
    "insatisfeitos no início do relacionamento. Isso permitiria que o Santander\n",
    "adotasse medidas proativas para melhorar a felicidade de um cliente antes que\n",
    "seja tarde demais.\n",
    "Neste projeto de aprendizado de máquina, você trabalhará com centenas\n",
    "de recursos anônimos para prever se um cliente está satisfeito ou insatisfeito com\n",
    "sua experiência bancária.\n",
    "Defina claramente o problema de negócio, faça a coleta e preparo dos\n",
    "dados, escolha um algoritmo, treine o modelo e avalie a acurácia, que deve ser de\n",
    "pelo menos 70%."
   ]
  },
  {
   "cell_type": "markdown",
   "metadata": {},
   "source": [
    "https://www.kaggle.com/c/santander-customer-satisfaction/overview/evaluation"
   ]
  },
  {
   "cell_type": "code",
   "execution_count": 1,
   "metadata": {},
   "outputs": [],
   "source": [
    "# libraries\n",
    "from pandas import read_csv\n",
    "from sklearn.neighbors import KNeighborsClassifier\n",
    "import pickle"
   ]
  },
  {
   "cell_type": "code",
   "execution_count": 2,
   "metadata": {},
   "outputs": [],
   "source": [
    "selected_cols_rfe_df = read_csv('../dataset/df_features_rfe.csv')\n",
    "selected_cols_rfe_df.index = selected_cols_rfe_df.ID"
   ]
  },
  {
   "cell_type": "markdown",
   "metadata": {},
   "source": [
    "# SELECTED MODEL\n",
    "### KNN with RFE selected features"
   ]
  },
  {
   "cell_type": "code",
   "execution_count": 3,
   "metadata": {},
   "outputs": [
    {
     "name": "stdout",
     "output_type": "stream",
     "text": [
      "(6016, 10)\n",
      "(6016,)\n"
     ]
    }
   ],
   "source": [
    "# Train selected model\n",
    "x = selected_cols_rfe_df.drop(['ID', 'TARGET'], axis=1)\n",
    "y = selected_cols_rfe_df.TARGET\n",
    "print(x.shape)\n",
    "print(y.shape)"
   ]
  },
  {
   "cell_type": "code",
   "execution_count": 4,
   "metadata": {},
   "outputs": [
    {
     "data": {
      "text/plain": [
       "KNeighborsClassifier(algorithm='auto', leaf_size=30, metric='minkowski',\n",
       "                     metric_params=None, n_jobs=None, n_neighbors=5, p=2,\n",
       "                     weights='uniform')"
      ]
     },
     "execution_count": 4,
     "metadata": {},
     "output_type": "execute_result"
    }
   ],
   "source": [
    "model = KNeighborsClassifier()\n",
    "model.fit(x, y)"
   ]
  },
  {
   "cell_type": "code",
   "execution_count": 5,
   "metadata": {},
   "outputs": [],
   "source": [
    "pickle.dump(model, open('../model/model.sav', 'wb'))"
   ]
  }
 ],
 "metadata": {
  "kernelspec": {
   "display_name": "Python 3",
   "language": "python",
   "name": "python3"
  },
  "language_info": {
   "codemirror_mode": {
    "name": "ipython",
    "version": 3
   },
   "file_extension": ".py",
   "mimetype": "text/x-python",
   "name": "python",
   "nbconvert_exporter": "python",
   "pygments_lexer": "ipython3",
   "version": "3.7.1"
  }
 },
 "nbformat": 4,
 "nbformat_minor": 4
}
