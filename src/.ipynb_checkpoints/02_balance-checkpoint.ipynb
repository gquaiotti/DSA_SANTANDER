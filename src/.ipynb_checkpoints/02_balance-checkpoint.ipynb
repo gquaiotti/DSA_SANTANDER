{
 "cells": [
  {
   "cell_type": "markdown",
   "metadata": {},
   "source": [
    "# Data Science Academy"
   ]
  },
  {
   "cell_type": "markdown",
   "metadata": {},
   "source": [
    "https://www.datascienceacademy.com.br/start"
   ]
  },
  {
   "cell_type": "markdown",
   "metadata": {},
   "source": [
    "### Projeto com Feedback 3"
   ]
  },
  {
   "cell_type": "markdown",
   "metadata": {},
   "source": [
    "Gabriel Quaiotti - Abr 2020"
   ]
  },
  {
   "cell_type": "markdown",
   "metadata": {},
   "source": [
    "A satisfação do cliente é uma medida fundamental de sucesso. Clientes\n",
    "insatisfeitos cancelam seus serviços e raramente expressam sua insatisfação antes\n",
    "de sair. Clientes satisfeitos, por outro lado, se tornam defensores da marca!\n",
    "O Banco Santander está pedindo para ajudá-los a identificar clientes\n",
    "insatisfeitos no início do relacionamento. Isso permitiria que o Santander\n",
    "adotasse medidas proativas para melhorar a felicidade de um cliente antes que\n",
    "seja tarde demais.\n",
    "Neste projeto de aprendizado de máquina, você trabalhará com centenas\n",
    "de recursos anônimos para prever se um cliente está satisfeito ou insatisfeito com\n",
    "sua experiência bancária.\n",
    "Defina claramente o problema de negócio, faça a coleta e preparo dos\n",
    "dados, escolha um algoritmo, treine o modelo e avalie a acurácia, que deve ser de\n",
    "pelo menos 70%."
   ]
  },
  {
   "cell_type": "markdown",
   "metadata": {},
   "source": [
    "https://www.kaggle.com/c/santander-customer-satisfaction/overview/evaluation"
   ]
  },
  {
   "cell_type": "code",
   "execution_count": 1,
   "metadata": {},
   "outputs": [],
   "source": [
    "# libraries\n",
    "from pandas import read_csv\n",
    "from pandas import concat\n",
    "from sklearn.utils import resample"
   ]
  },
  {
   "cell_type": "code",
   "execution_count": 2,
   "metadata": {},
   "outputs": [],
   "source": [
    "# Read dataset\n",
    "df = read_csv('../dataset/df_clean.csv')\n",
    "df.index = df.ID"
   ]
  },
  {
   "cell_type": "markdown",
   "metadata": {},
   "source": [
    "## BALANCE"
   ]
  },
  {
   "cell_type": "code",
   "execution_count": 3,
   "metadata": {},
   "outputs": [
    {
     "data": {
      "text/plain": [
       "0    73012\n",
       "1     3008\n",
       "Name: TARGET, dtype: int64"
      ]
     },
     "execution_count": 3,
     "metadata": {},
     "output_type": "execute_result"
    }
   ],
   "source": [
    "# Check dataset TARGET variable balance\n",
    "df['TARGET'].value_counts()"
   ]
  },
  {
   "cell_type": "code",
   "execution_count": 4,
   "metadata": {},
   "outputs": [
    {
     "data": {
      "text/plain": [
       "1    3008\n",
       "0    3008\n",
       "Name: TARGET, dtype: int64"
      ]
     },
     "execution_count": 4,
     "metadata": {},
     "output_type": "execute_result"
    }
   ],
   "source": [
    "# The dataset is unbalanced\n",
    "# Balance the dataset\n",
    "df_t0 = df[df.TARGET==0]\n",
    "df_t1 = df[df.TARGET==1]\n",
    " \n",
    "# Upsample majority class\n",
    "df_t0 = resample(df_t0, \n",
    "                 replace=False,     # sample with replacement\n",
    "                 n_samples=3008, \n",
    "                 random_state = 123) # reproducible results\n",
    " \n",
    "# Combine majority class with upsampled minority class\n",
    "df = concat([df_t0, df_t1])\n",
    " \n",
    "# Display new class counts\n",
    "df.TARGET.value_counts()"
   ]
  },
  {
   "cell_type": "code",
   "execution_count": 5,
   "metadata": {},
   "outputs": [
    {
     "data": {
      "text/plain": [
       "(6016, 248)"
      ]
     },
     "execution_count": 5,
     "metadata": {},
     "output_type": "execute_result"
    }
   ],
   "source": [
    "# Remove columns with no value (only zeros) after balancing the dataset\n",
    "df = df.loc[:, (df != 0).any(axis=0)]\n",
    "# Check new shape\n",
    "df.shape"
   ]
  },
  {
   "cell_type": "code",
   "execution_count": 6,
   "metadata": {},
   "outputs": [],
   "source": [
    "# Save transformed dataset\n",
    "df.to_csv('../dataset/df_balance.csv', index=False)"
   ]
  }
 ],
 "metadata": {
  "kernelspec": {
   "display_name": "Python 3",
   "language": "python",
   "name": "python3"
  },
  "language_info": {
   "codemirror_mode": {
    "name": "ipython",
    "version": 3
   },
   "file_extension": ".py",
   "mimetype": "text/x-python",
   "name": "python",
   "nbconvert_exporter": "python",
   "pygments_lexer": "ipython3",
   "version": "3.7.1"
  }
 },
 "nbformat": 4,
 "nbformat_minor": 4
}
