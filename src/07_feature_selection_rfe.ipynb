{
 "cells": [
  {
   "cell_type": "markdown",
   "metadata": {},
   "source": [
    "# Data Science Academy"
   ]
  },
  {
   "cell_type": "markdown",
   "metadata": {},
   "source": [
    "https://www.datascienceacademy.com.br/start"
   ]
  },
  {
   "cell_type": "markdown",
   "metadata": {},
   "source": [
    "### Projeto com Feedback 3"
   ]
  },
  {
   "cell_type": "markdown",
   "metadata": {},
   "source": [
    "Gabriel Quaiotti - Abr 2020"
   ]
  },
  {
   "cell_type": "markdown",
   "metadata": {},
   "source": [
    "A satisfação do cliente é uma medida fundamental de sucesso. Clientes\n",
    "insatisfeitos cancelam seus serviços e raramente expressam sua insatisfação antes\n",
    "de sair. Clientes satisfeitos, por outro lado, se tornam defensores da marca!\n",
    "O Banco Santander está pedindo para ajudá-los a identificar clientes\n",
    "insatisfeitos no início do relacionamento. Isso permitiria que o Santander\n",
    "adotasse medidas proativas para melhorar a felicidade de um cliente antes que\n",
    "seja tarde demais.\n",
    "Neste projeto de aprendizado de máquina, você trabalhará com centenas\n",
    "de recursos anônimos para prever se um cliente está satisfeito ou insatisfeito com\n",
    "sua experiência bancária.\n",
    "Defina claramente o problema de negócio, faça a coleta e preparo dos\n",
    "dados, escolha um algoritmo, treine o modelo e avalie a acurácia, que deve ser de\n",
    "pelo menos 70%."
   ]
  },
  {
   "cell_type": "markdown",
   "metadata": {},
   "source": [
    "https://www.kaggle.com/c/santander-customer-satisfaction/overview/evaluation"
   ]
  },
  {
   "cell_type": "code",
   "execution_count": 1,
   "metadata": {},
   "outputs": [],
   "source": [
    "# libraries\n",
    "from pandas import read_csv\n",
    "from pandas import concat\n",
    "from pandas import Index\n",
    "\n",
    "from seaborn import FacetGrid\n",
    "\n",
    "import matplotlib.pyplot as plt\n",
    "\n",
    "from sklearn.feature_selection import RFE\n",
    "from sklearn.linear_model import LogisticRegression"
   ]
  },
  {
   "cell_type": "code",
   "execution_count": 2,
   "metadata": {},
   "outputs": [],
   "source": [
    "# Read dataset\n",
    "df = read_csv('../dataset/df_scale.csv')\n",
    "df.index = df.ID"
   ]
  },
  {
   "cell_type": "markdown",
   "metadata": {},
   "source": [
    "# Feature Selection with Recursive Feature Elimination"
   ]
  },
  {
   "cell_type": "code",
   "execution_count": 3,
   "metadata": {},
   "outputs": [
    {
     "data": {
      "text/plain": [
       "Index(['var15', 'imp_op_var41_efect_ult1', 'imp_op_var39_efect_ult1',\n",
       "       'ind_var13', 'ind_var30_0', 'ind_var30', 'saldo_var30',\n",
       "       'num_var22_hace2', 'saldo_medio_var5_ult1', 'var38'],\n",
       "      dtype='object')"
      ]
     },
     "execution_count": 3,
     "metadata": {},
     "output_type": "execute_result"
    }
   ],
   "source": [
    "x = df.drop(['ID', 'TARGET'], axis=1)\n",
    "y = df.TARGET\n",
    "# RFE\n",
    "rfe = RFE(LogisticRegression(max_iter=1000), 10)\n",
    "fit = rfe.fit(x, y)\n",
    "\n",
    "selected_cols_rfe = fit.get_support(indices=True)\n",
    "selected_cols_rfe = df.columns[selected_cols_rfe + 1] # dropped ID then sum 1\n",
    "selected_cols_rfe"
   ]
  },
  {
   "cell_type": "code",
   "execution_count": 4,
   "metadata": {},
   "outputs": [
    {
     "data": {
      "text/html": [
       "<div>\n",
       "<style scoped>\n",
       "    .dataframe tbody tr th:only-of-type {\n",
       "        vertical-align: middle;\n",
       "    }\n",
       "\n",
       "    .dataframe tbody tr th {\n",
       "        vertical-align: top;\n",
       "    }\n",
       "\n",
       "    .dataframe thead th {\n",
       "        text-align: right;\n",
       "    }\n",
       "</style>\n",
       "<table border=\"1\" class=\"dataframe\">\n",
       "  <thead>\n",
       "    <tr style=\"text-align: right;\">\n",
       "      <th></th>\n",
       "      <th>ID</th>\n",
       "      <th>var15</th>\n",
       "      <th>imp_op_var41_efect_ult1</th>\n",
       "      <th>imp_op_var39_efect_ult1</th>\n",
       "      <th>ind_var13</th>\n",
       "      <th>ind_var30_0</th>\n",
       "      <th>ind_var30</th>\n",
       "      <th>saldo_var30</th>\n",
       "      <th>num_var22_hace2</th>\n",
       "      <th>saldo_medio_var5_ult1</th>\n",
       "      <th>var38</th>\n",
       "      <th>TARGET</th>\n",
       "    </tr>\n",
       "    <tr>\n",
       "      <th>ID</th>\n",
       "      <th></th>\n",
       "      <th></th>\n",
       "      <th></th>\n",
       "      <th></th>\n",
       "      <th></th>\n",
       "      <th></th>\n",
       "      <th></th>\n",
       "      <th></th>\n",
       "      <th></th>\n",
       "      <th></th>\n",
       "      <th></th>\n",
       "      <th></th>\n",
       "    </tr>\n",
       "  </thead>\n",
       "  <tbody>\n",
       "    <tr>\n",
       "      <th>4066</th>\n",
       "      <td>4066</td>\n",
       "      <td>0.762887</td>\n",
       "      <td>0.00000</td>\n",
       "      <td>0.000000</td>\n",
       "      <td>0.0</td>\n",
       "      <td>1.0</td>\n",
       "      <td>1.0</td>\n",
       "      <td>0.003485</td>\n",
       "      <td>0.095238</td>\n",
       "      <td>0.006742</td>\n",
       "      <td>0.021809</td>\n",
       "      <td>0</td>\n",
       "    </tr>\n",
       "    <tr>\n",
       "      <th>138288</th>\n",
       "      <td>138288</td>\n",
       "      <td>0.443299</td>\n",
       "      <td>0.00000</td>\n",
       "      <td>0.000000</td>\n",
       "      <td>0.0</td>\n",
       "      <td>1.0</td>\n",
       "      <td>1.0</td>\n",
       "      <td>0.004033</td>\n",
       "      <td>0.190476</td>\n",
       "      <td>0.011456</td>\n",
       "      <td>0.015486</td>\n",
       "      <td>0</td>\n",
       "    </tr>\n",
       "    <tr>\n",
       "      <th>116807</th>\n",
       "      <td>116807</td>\n",
       "      <td>0.185567</td>\n",
       "      <td>0.00000</td>\n",
       "      <td>0.000000</td>\n",
       "      <td>0.0</td>\n",
       "      <td>1.0</td>\n",
       "      <td>1.0</td>\n",
       "      <td>0.002724</td>\n",
       "      <td>0.000000</td>\n",
       "      <td>0.003701</td>\n",
       "      <td>0.022503</td>\n",
       "      <td>0</td>\n",
       "    </tr>\n",
       "    <tr>\n",
       "      <th>48209</th>\n",
       "      <td>48209</td>\n",
       "      <td>0.381443</td>\n",
       "      <td>0.00000</td>\n",
       "      <td>0.000000</td>\n",
       "      <td>0.0</td>\n",
       "      <td>1.0</td>\n",
       "      <td>1.0</td>\n",
       "      <td>0.003403</td>\n",
       "      <td>0.047619</td>\n",
       "      <td>0.007457</td>\n",
       "      <td>0.019239</td>\n",
       "      <td>0</td>\n",
       "    </tr>\n",
       "    <tr>\n",
       "      <th>130235</th>\n",
       "      <td>130235</td>\n",
       "      <td>0.185567</td>\n",
       "      <td>0.00000</td>\n",
       "      <td>0.000000</td>\n",
       "      <td>0.0</td>\n",
       "      <td>1.0</td>\n",
       "      <td>0.0</td>\n",
       "      <td>0.002721</td>\n",
       "      <td>0.000000</td>\n",
       "      <td>0.003686</td>\n",
       "      <td>0.009602</td>\n",
       "      <td>0</td>\n",
       "    </tr>\n",
       "    <tr>\n",
       "      <th>...</th>\n",
       "      <td>...</td>\n",
       "      <td>...</td>\n",
       "      <td>...</td>\n",
       "      <td>...</td>\n",
       "      <td>...</td>\n",
       "      <td>...</td>\n",
       "      <td>...</td>\n",
       "      <td>...</td>\n",
       "      <td>...</td>\n",
       "      <td>...</td>\n",
       "      <td>...</td>\n",
       "      <td>...</td>\n",
       "    </tr>\n",
       "    <tr>\n",
       "      <th>151601</th>\n",
       "      <td>151601</td>\n",
       "      <td>0.257732</td>\n",
       "      <td>0.00000</td>\n",
       "      <td>0.000000</td>\n",
       "      <td>0.0</td>\n",
       "      <td>1.0</td>\n",
       "      <td>0.0</td>\n",
       "      <td>0.002721</td>\n",
       "      <td>0.000000</td>\n",
       "      <td>0.003686</td>\n",
       "      <td>0.006783</td>\n",
       "      <td>1</td>\n",
       "    </tr>\n",
       "    <tr>\n",
       "      <th>151634</th>\n",
       "      <td>151634</td>\n",
       "      <td>0.226804</td>\n",
       "      <td>0.04119</td>\n",
       "      <td>0.038544</td>\n",
       "      <td>0.0</td>\n",
       "      <td>1.0</td>\n",
       "      <td>1.0</td>\n",
       "      <td>0.002756</td>\n",
       "      <td>0.142857</td>\n",
       "      <td>0.005312</td>\n",
       "      <td>0.030748</td>\n",
       "      <td>1</td>\n",
       "    </tr>\n",
       "    <tr>\n",
       "      <th>151679</th>\n",
       "      <td>151679</td>\n",
       "      <td>0.216495</td>\n",
       "      <td>0.00000</td>\n",
       "      <td>0.000000</td>\n",
       "      <td>0.0</td>\n",
       "      <td>1.0</td>\n",
       "      <td>0.0</td>\n",
       "      <td>0.002721</td>\n",
       "      <td>0.000000</td>\n",
       "      <td>0.003686</td>\n",
       "      <td>0.010850</td>\n",
       "      <td>1</td>\n",
       "    </tr>\n",
       "    <tr>\n",
       "      <th>151804</th>\n",
       "      <td>151804</td>\n",
       "      <td>0.721649</td>\n",
       "      <td>0.00000</td>\n",
       "      <td>0.000000</td>\n",
       "      <td>0.0</td>\n",
       "      <td>1.0</td>\n",
       "      <td>1.0</td>\n",
       "      <td>0.002858</td>\n",
       "      <td>0.047619</td>\n",
       "      <td>0.004347</td>\n",
       "      <td>0.019239</td>\n",
       "      <td>1</td>\n",
       "    </tr>\n",
       "    <tr>\n",
       "      <th>151811</th>\n",
       "      <td>151811</td>\n",
       "      <td>0.577320</td>\n",
       "      <td>0.00000</td>\n",
       "      <td>0.000000</td>\n",
       "      <td>0.0</td>\n",
       "      <td>1.0</td>\n",
       "      <td>0.0</td>\n",
       "      <td>0.002721</td>\n",
       "      <td>0.000000</td>\n",
       "      <td>0.003686</td>\n",
       "      <td>0.013383</td>\n",
       "      <td>1</td>\n",
       "    </tr>\n",
       "  </tbody>\n",
       "</table>\n",
       "<p>6016 rows × 12 columns</p>\n",
       "</div>"
      ],
      "text/plain": [
       "            ID     var15  imp_op_var41_efect_ult1  imp_op_var39_efect_ult1  \\\n",
       "ID                                                                           \n",
       "4066      4066  0.762887                  0.00000                 0.000000   \n",
       "138288  138288  0.443299                  0.00000                 0.000000   \n",
       "116807  116807  0.185567                  0.00000                 0.000000   \n",
       "48209    48209  0.381443                  0.00000                 0.000000   \n",
       "130235  130235  0.185567                  0.00000                 0.000000   \n",
       "...        ...       ...                      ...                      ...   \n",
       "151601  151601  0.257732                  0.00000                 0.000000   \n",
       "151634  151634  0.226804                  0.04119                 0.038544   \n",
       "151679  151679  0.216495                  0.00000                 0.000000   \n",
       "151804  151804  0.721649                  0.00000                 0.000000   \n",
       "151811  151811  0.577320                  0.00000                 0.000000   \n",
       "\n",
       "        ind_var13  ind_var30_0  ind_var30  saldo_var30  num_var22_hace2  \\\n",
       "ID                                                                        \n",
       "4066          0.0          1.0        1.0     0.003485         0.095238   \n",
       "138288        0.0          1.0        1.0     0.004033         0.190476   \n",
       "116807        0.0          1.0        1.0     0.002724         0.000000   \n",
       "48209         0.0          1.0        1.0     0.003403         0.047619   \n",
       "130235        0.0          1.0        0.0     0.002721         0.000000   \n",
       "...           ...          ...        ...          ...              ...   \n",
       "151601        0.0          1.0        0.0     0.002721         0.000000   \n",
       "151634        0.0          1.0        1.0     0.002756         0.142857   \n",
       "151679        0.0          1.0        0.0     0.002721         0.000000   \n",
       "151804        0.0          1.0        1.0     0.002858         0.047619   \n",
       "151811        0.0          1.0        0.0     0.002721         0.000000   \n",
       "\n",
       "        saldo_medio_var5_ult1     var38  TARGET  \n",
       "ID                                               \n",
       "4066                 0.006742  0.021809       0  \n",
       "138288               0.011456  0.015486       0  \n",
       "116807               0.003701  0.022503       0  \n",
       "48209                0.007457  0.019239       0  \n",
       "130235               0.003686  0.009602       0  \n",
       "...                       ...       ...     ...  \n",
       "151601               0.003686  0.006783       1  \n",
       "151634               0.005312  0.030748       1  \n",
       "151679               0.003686  0.010850       1  \n",
       "151804               0.004347  0.019239       1  \n",
       "151811               0.003686  0.013383       1  \n",
       "\n",
       "[6016 rows x 12 columns]"
      ]
     },
     "execution_count": 4,
     "metadata": {},
     "output_type": "execute_result"
    }
   ],
   "source": [
    "# Create a dataset with selected features\n",
    "selected_cols_rfe_df = concat([df.ID, df[selected_cols_rfe]], axis=1)\n",
    "selected_cols_rfe_df = concat([selected_cols_rfe_df, df.TARGET], axis=1)\n",
    "selected_cols_rfe_df"
   ]
  },
  {
   "cell_type": "code",
   "execution_count": 5,
   "metadata": {},
   "outputs": [
    {
     "data": {
      "image/png": "[encoded data removed]",
      "text/plain": [
       "<Figure size 432x216 with 2 Axes>"
      ]
     },
     "metadata": {
      "needs_background": "light"
     },
     "output_type": "display_data"
    },
    {
     "data": {
      "image/png": "[encoded data removed]",
      "text/plain": [
       "<Figure size 432x216 with 2 Axes>"
      ]
     },
     "metadata": {
      "needs_background": "light"
     },
     "output_type": "display_data"
    },
    {
     "data": {
      "image/png": "[encoded data removed]",
      "text/plain": [
       "<Figure size 432x216 with 2 Axes>"
      ]
     },
     "metadata": {
      "needs_background": "light"
     },
     "output_type": "display_data"
    },
    {
     "data": {
      "image/png": "[encoded data removed]",
      "text/plain": [
       "<Figure size 432x216 with 2 Axes>"
      ]
     },
     "metadata": {
      "needs_background": "light"
     },
     "output_type": "display_data"
    },
    {
     "data": {
      "image/png": "[encoded data removed]",
      "text/plain": [
       "<Figure size 432x216 with 2 Axes>"
      ]
     },
     "metadata": {
      "needs_background": "light"
     },
     "output_type": "display_data"
    },
    {
     "data": {
      "image/png": "[encoded data removed]",
      "text/plain": [
       "<Figure size 432x216 with 2 Axes>"
      ]
     },
     "metadata": {
      "needs_background": "light"
     },
     "output_type": "display_data"
    },
    {
     "data": {
      "image/png": "[encoded data removed]",
      "text/plain": [
       "<Figure size 432x216 with 2 Axes>"
      ]
     },
     "metadata": {
      "needs_background": "light"
     },
     "output_type": "display_data"
    },
    {
     "data": {
      "image/png": "[encoded data removed]",
      "text/plain": [
       "<Figure size 432x216 with 2 Axes>"
      ]
     },
     "metadata": {
      "needs_background": "light"
     },
     "output_type": "display_data"
    },
    {
     "data": {
      "image/png": "[encoded data removed]",
      "text/plain": [
       "<Figure size 432x216 with 2 Axes>"
      ]
     },
     "metadata": {
      "needs_background": "light"
     },
     "output_type": "display_data"
    },
    {
     "data": {
      "image/png": "[encoded data removed]",
      "text/plain": [
       "<Figure size 432x216 with 2 Axes>"
      ]
     },
     "metadata": {
      "needs_background": "light"
     },
     "output_type": "display_data"
    }
   ],
   "source": [
    "for col in selected_cols_rfe_df.drop(['ID', 'TARGET'], axis=1):\n",
    "    g = FacetGrid(selected_cols_rfe_df, col=\"TARGET\")\n",
    "    g.map(plt.hist, col)\n",
    "    plt.pause(0.05)\n",
    "    \n",
    "plt.show()"
   ]
  },
  {
   "cell_type": "code",
   "execution_count": 6,
   "metadata": {},
   "outputs": [],
   "source": [
    "selected_cols_rfe_df.to_csv('../dataset/df_features_rfe.csv', index = False)"
   ]
  }
 ],
 "metadata": {
  "kernelspec": {
   "display_name": "Python 3",
   "language": "python",
   "name": "python3"
  },
  "language_info": {
   "codemirror_mode": {
    "name": "ipython",
    "version": 3
   },
   "file_extension": ".py",
   "mimetype": "text/x-python",
   "name": "python",
   "nbconvert_exporter": "python",
   "pygments_lexer": "ipython3",
   "version": "3.7.1"
  }
 },
 "nbformat": 4,
 "nbformat_minor": 4
}
